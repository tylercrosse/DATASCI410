{
 "cells": [
  {
   "cell_type": "markdown",
   "metadata": {},
   "source": [
    "# Lesson 1 Assignment - EnergyLoads\n",
    "## Answer Key"
   ]
  },
  {
   "cell_type": "markdown",
   "metadata": {},
   "source": [
    "### Instructions\n",
    "In this exercise you will use visualization and summary statistical methods to explore a data set. You will be looking for interesting aspects in these data. Specifically, you will explore an energy efficiency data set.\n",
    "\n",
    "This data set contains characteristics of over 750 buildings. The efficiency of the building is measured as either heating load or cooling load. Your goal is to find **three interesting relationships within the variables** which help you understand the energy efficiency of these buildings.\n",
    "\n",
    "The exercise is deliberately open-ended. Whenever you approach a new data set some open-ended exploration is required. Expect this exploration to be an iterative process. You may need to try several ideas before you find truly interesting relationships.\n",
    "\n",
    "The key points come from examining charts and summary statistics based on distribution Heating Load and Cooling Load. \n",
    "<font color=\"blue\">At the end of this notebook include Markdown cells outlining your 3 key points.</font>\n",
    "\n",
    "Example description:  The heating load of buildings depends on ... Evidence for this relationship can be seen by ... in the figure and by noting .... in the table above. \n"
   ]
  },
  {
   "cell_type": "markdown",
   "metadata": {},
   "source": [
    "#### Tip: \n",
    "There are no categorical variables in this data set. There are two numeric variables, Orientation and Glazing Area Distribution, with only 4 and 2 discrete values. You can convert these integer values to factors and examine the effect on the distribution of Heating Load and Cooling Load."
   ]
  },
  {
   "cell_type": "markdown",
   "metadata": {},
   "source": [
    "## Read in data"
   ]
  },
  {
   "cell_type": "code",
   "execution_count": 1,
   "metadata": {},
   "outputs": [],
   "source": [
    "# Import libraries\n",
    "import pandas as pd\n",
    "import numpy as np"
   ]
  },
  {
   "cell_type": "code",
   "execution_count": 2,
   "metadata": {},
   "outputs": [],
   "source": [
    "# Cleaned up Dataset location\n",
    "fileName = \"https://library.startlearninglabs.uw.edu/DATASCI410/Datasets/EnergyEfficiencyData.csv\""
   ]
  },
  {
   "cell_type": "code",
   "execution_count": 3,
   "metadata": {},
   "outputs": [],
   "source": [
    "# read in dataset\n",
    "data = pd.read_csv(fileName)"
   ]
  },
  {
   "cell_type": "code",
   "execution_count": 4,
   "metadata": {},
   "outputs": [
    {
     "data": {
      "text/html": [
       "<div>\n",
       "<style scoped>\n",
       "    .dataframe tbody tr th:only-of-type {\n",
       "        vertical-align: middle;\n",
       "    }\n",
       "\n",
       "    .dataframe tbody tr th {\n",
       "        vertical-align: top;\n",
       "    }\n",
       "\n",
       "    .dataframe thead th {\n",
       "        text-align: right;\n",
       "    }\n",
       "</style>\n",
       "<table border=\"1\" class=\"dataframe\">\n",
       "  <thead>\n",
       "    <tr style=\"text-align: right;\">\n",
       "      <th></th>\n",
       "      <th>Relative Compactness</th>\n",
       "      <th>Surface Area</th>\n",
       "      <th>Wall Area</th>\n",
       "      <th>Roof Area</th>\n",
       "      <th>Overall Height</th>\n",
       "      <th>Orientation</th>\n",
       "      <th>Glazing Area</th>\n",
       "      <th>Glazing Area Distribution</th>\n",
       "      <th>Heating Load</th>\n",
       "      <th>Cooling Load</th>\n",
       "    </tr>\n",
       "  </thead>\n",
       "  <tbody>\n",
       "    <tr>\n",
       "      <th>0</th>\n",
       "      <td>0.98</td>\n",
       "      <td>514.5</td>\n",
       "      <td>294.0</td>\n",
       "      <td>110.25</td>\n",
       "      <td>7.0</td>\n",
       "      <td>2</td>\n",
       "      <td>0.0</td>\n",
       "      <td>0</td>\n",
       "      <td>15.55</td>\n",
       "      <td>21.33</td>\n",
       "    </tr>\n",
       "    <tr>\n",
       "      <th>1</th>\n",
       "      <td>0.98</td>\n",
       "      <td>514.5</td>\n",
       "      <td>294.0</td>\n",
       "      <td>110.25</td>\n",
       "      <td>7.0</td>\n",
       "      <td>3</td>\n",
       "      <td>0.0</td>\n",
       "      <td>0</td>\n",
       "      <td>15.55</td>\n",
       "      <td>21.33</td>\n",
       "    </tr>\n",
       "    <tr>\n",
       "      <th>2</th>\n",
       "      <td>0.98</td>\n",
       "      <td>514.5</td>\n",
       "      <td>294.0</td>\n",
       "      <td>110.25</td>\n",
       "      <td>7.0</td>\n",
       "      <td>4</td>\n",
       "      <td>0.0</td>\n",
       "      <td>0</td>\n",
       "      <td>15.55</td>\n",
       "      <td>21.33</td>\n",
       "    </tr>\n",
       "    <tr>\n",
       "      <th>3</th>\n",
       "      <td>0.98</td>\n",
       "      <td>514.5</td>\n",
       "      <td>294.0</td>\n",
       "      <td>110.25</td>\n",
       "      <td>7.0</td>\n",
       "      <td>5</td>\n",
       "      <td>0.0</td>\n",
       "      <td>0</td>\n",
       "      <td>15.55</td>\n",
       "      <td>21.33</td>\n",
       "    </tr>\n",
       "    <tr>\n",
       "      <th>4</th>\n",
       "      <td>0.90</td>\n",
       "      <td>563.5</td>\n",
       "      <td>318.5</td>\n",
       "      <td>122.50</td>\n",
       "      <td>7.0</td>\n",
       "      <td>2</td>\n",
       "      <td>0.0</td>\n",
       "      <td>0</td>\n",
       "      <td>20.84</td>\n",
       "      <td>28.28</td>\n",
       "    </tr>\n",
       "  </tbody>\n",
       "</table>\n",
       "</div>"
      ],
      "text/plain": [
       "   Relative Compactness  Surface Area  Wall Area  Roof Area  Overall Height  \\\n",
       "0                  0.98         514.5      294.0     110.25             7.0   \n",
       "1                  0.98         514.5      294.0     110.25             7.0   \n",
       "2                  0.98         514.5      294.0     110.25             7.0   \n",
       "3                  0.98         514.5      294.0     110.25             7.0   \n",
       "4                  0.90         563.5      318.5     122.50             7.0   \n",
       "\n",
       "   Orientation  Glazing Area  Glazing Area Distribution  Heating Load  \\\n",
       "0            2           0.0                          0         15.55   \n",
       "1            3           0.0                          0         15.55   \n",
       "2            4           0.0                          0         15.55   \n",
       "3            5           0.0                          0         15.55   \n",
       "4            2           0.0                          0         20.84   \n",
       "\n",
       "   Cooling Load  \n",
       "0         21.33  \n",
       "1         21.33  \n",
       "2         21.33  \n",
       "3         21.33  \n",
       "4         28.28  "
      ]
     },
     "execution_count": 4,
     "metadata": {},
     "output_type": "execute_result"
    }
   ],
   "source": [
    "# take a quick look at the data\n",
    "data.head()"
   ]
  },
  {
   "cell_type": "code",
   "execution_count": 5,
   "metadata": {},
   "outputs": [
    {
     "data": {
      "text/plain": [
       "False"
      ]
     },
     "execution_count": 5,
     "metadata": {},
     "output_type": "execute_result"
    }
   ],
   "source": [
    "# check for null values\n",
    "data.isnull().values.any()"
   ]
  },
  {
   "cell_type": "code",
   "execution_count": 6,
   "metadata": {},
   "outputs": [],
   "source": [
    "# replace pesky spaces in column names\n",
    "data.columns = data.columns.str.replace(' ', '_')"
   ]
  },
  {
   "cell_type": "code",
   "execution_count": 7,
   "metadata": {},
   "outputs": [
    {
     "data": {
      "text/html": [
       "<div>\n",
       "<style scoped>\n",
       "    .dataframe tbody tr th:only-of-type {\n",
       "        vertical-align: middle;\n",
       "    }\n",
       "\n",
       "    .dataframe tbody tr th {\n",
       "        vertical-align: top;\n",
       "    }\n",
       "\n",
       "    .dataframe thead th {\n",
       "        text-align: right;\n",
       "    }\n",
       "</style>\n",
       "<table border=\"1\" class=\"dataframe\">\n",
       "  <thead>\n",
       "    <tr style=\"text-align: right;\">\n",
       "      <th></th>\n",
       "      <th>Relative_Compactness</th>\n",
       "      <th>Surface_Area</th>\n",
       "      <th>Wall_Area</th>\n",
       "      <th>Roof_Area</th>\n",
       "      <th>Overall_Height</th>\n",
       "      <th>Orientation</th>\n",
       "      <th>Glazing_Area</th>\n",
       "      <th>Glazing_Area_Distribution</th>\n",
       "      <th>Heating_Load</th>\n",
       "      <th>Cooling_Load</th>\n",
       "    </tr>\n",
       "  </thead>\n",
       "  <tbody>\n",
       "    <tr>\n",
       "      <th>0</th>\n",
       "      <td>0.98</td>\n",
       "      <td>514.5</td>\n",
       "      <td>294.0</td>\n",
       "      <td>110.25</td>\n",
       "      <td>7.0</td>\n",
       "      <td>2</td>\n",
       "      <td>0.0</td>\n",
       "      <td>0</td>\n",
       "      <td>15.55</td>\n",
       "      <td>21.33</td>\n",
       "    </tr>\n",
       "    <tr>\n",
       "      <th>1</th>\n",
       "      <td>0.98</td>\n",
       "      <td>514.5</td>\n",
       "      <td>294.0</td>\n",
       "      <td>110.25</td>\n",
       "      <td>7.0</td>\n",
       "      <td>3</td>\n",
       "      <td>0.0</td>\n",
       "      <td>0</td>\n",
       "      <td>15.55</td>\n",
       "      <td>21.33</td>\n",
       "    </tr>\n",
       "    <tr>\n",
       "      <th>2</th>\n",
       "      <td>0.98</td>\n",
       "      <td>514.5</td>\n",
       "      <td>294.0</td>\n",
       "      <td>110.25</td>\n",
       "      <td>7.0</td>\n",
       "      <td>4</td>\n",
       "      <td>0.0</td>\n",
       "      <td>0</td>\n",
       "      <td>15.55</td>\n",
       "      <td>21.33</td>\n",
       "    </tr>\n",
       "    <tr>\n",
       "      <th>3</th>\n",
       "      <td>0.98</td>\n",
       "      <td>514.5</td>\n",
       "      <td>294.0</td>\n",
       "      <td>110.25</td>\n",
       "      <td>7.0</td>\n",
       "      <td>5</td>\n",
       "      <td>0.0</td>\n",
       "      <td>0</td>\n",
       "      <td>15.55</td>\n",
       "      <td>21.33</td>\n",
       "    </tr>\n",
       "    <tr>\n",
       "      <th>4</th>\n",
       "      <td>0.90</td>\n",
       "      <td>563.5</td>\n",
       "      <td>318.5</td>\n",
       "      <td>122.50</td>\n",
       "      <td>7.0</td>\n",
       "      <td>2</td>\n",
       "      <td>0.0</td>\n",
       "      <td>0</td>\n",
       "      <td>20.84</td>\n",
       "      <td>28.28</td>\n",
       "    </tr>\n",
       "  </tbody>\n",
       "</table>\n",
       "</div>"
      ],
      "text/plain": [
       "   Relative_Compactness  Surface_Area  Wall_Area  Roof_Area  Overall_Height  \\\n",
       "0                  0.98         514.5      294.0     110.25             7.0   \n",
       "1                  0.98         514.5      294.0     110.25             7.0   \n",
       "2                  0.98         514.5      294.0     110.25             7.0   \n",
       "3                  0.98         514.5      294.0     110.25             7.0   \n",
       "4                  0.90         563.5      318.5     122.50             7.0   \n",
       "\n",
       "   Orientation  Glazing_Area  Glazing_Area_Distribution  Heating_Load  \\\n",
       "0            2           0.0                          0         15.55   \n",
       "1            3           0.0                          0         15.55   \n",
       "2            4           0.0                          0         15.55   \n",
       "3            5           0.0                          0         15.55   \n",
       "4            2           0.0                          0         20.84   \n",
       "\n",
       "   Cooling_Load  \n",
       "0         21.33  \n",
       "1         21.33  \n",
       "2         21.33  \n",
       "3         21.33  \n",
       "4         28.28  "
      ]
     },
     "execution_count": 7,
     "metadata": {},
     "output_type": "execute_result"
    }
   ],
   "source": [
    "# check that it worked\n",
    "data.head()"
   ]
  },
  {
   "cell_type": "code",
   "execution_count": 8,
   "metadata": {},
   "outputs": [
    {
     "data": {
      "text/plain": [
       "(768, 10)"
      ]
     },
     "execution_count": 8,
     "metadata": {},
     "output_type": "execute_result"
    }
   ],
   "source": [
    "# view dimensions\n",
    "data.shape"
   ]
  },
  {
   "cell_type": "code",
   "execution_count": 10,
   "metadata": {},
   "outputs": [
    {
     "data": {
      "text/plain": [
       "Relative_Compactness         float64\n",
       "Surface_Area                 float64\n",
       "Wall_Area                    float64\n",
       "Roof_Area                    float64\n",
       "Overall_Height               float64\n",
       "Orientation                    int64\n",
       "Glazing_Area                 float64\n",
       "Glazing_Area_Distribution      int64\n",
       "Heating_Load                 float64\n",
       "Cooling_Load                 float64\n",
       "dtype: object"
      ]
     },
     "execution_count": 10,
     "metadata": {},
     "output_type": "execute_result"
    }
   ],
   "source": [
    "# view datatypes\n",
    "data.dtypes  # yep no categorical variables"
   ]
  },
  {
   "cell_type": "markdown",
   "metadata": {},
   "source": [
    "## Summary Stats"
   ]
  },
  {
   "cell_type": "code",
   "execution_count": 9,
   "metadata": {},
   "outputs": [
    {
     "data": {
      "text/plain": [
       "count    768.000000\n",
       "mean     671.708333\n",
       "std       88.086116\n",
       "min      514.500000\n",
       "25%      606.375000\n",
       "50%      673.750000\n",
       "75%      741.125000\n",
       "max      808.500000\n",
       "Name: Surface_Area, dtype: float64"
      ]
     },
     "execution_count": 9,
     "metadata": {},
     "output_type": "execute_result"
    }
   ],
   "source": [
    "# look at summary stats\n",
    "data.Surface_Area.describe()"
   ]
  },
  {
   "cell_type": "markdown",
   "metadata": {},
   "source": [
    "### Quick Overview of summary stats: \n",
    "- measurements do not appear to be on the same scale, what might we need to do to make the comparable? \n"
   ]
  },
  {
   "cell_type": "code",
   "execution_count": 10,
   "metadata": {},
   "outputs": [],
   "source": [
    "# view variable distributions\n",
    "import matplotlib.pyplot as plt\n",
    "%matplotlib inline"
   ]
  },
  {
   "cell_type": "code",
   "execution_count": 11,
   "metadata": {},
   "outputs": [
    {
     "data": {
      "image/png": "[encoded data removed]",
      "text/plain": [
       "<Figure size 432x432 with 1 Axes>"
      ]
     },
     "metadata": {},
     "output_type": "display_data"
    }
   ],
   "source": [
    "fig = plt.figure(figsize=(6, 6)) # Define plot area\n",
    "ax = fig.gca() # Define axis \n",
    "data.boxplot()\n",
    "plt.xticks(rotation=90) # move to vertical axes so we can see labels\n",
    "ax.set_title('Box plot of variables') # Give the plot a main title\n",
    "plt.show()"
   ]
  },
  {
   "cell_type": "markdown",
   "metadata": {},
   "source": [
    "Do you think it's a good idea to compare variables that aren't on the same scale? "
   ]
  },
  {
   "cell_type": "markdown",
   "metadata": {},
   "source": [
    "## Finding Relationships in the data\n",
    "\n",
    "Let's take another look at the variables in the dataset. \n",
    "\n",
    "Remember our goal: The efficiency of the building is measured as either heating load or cooling load. Your goal is to find three interesting relationships within the variables which help you understand the energy efficiency of these buildings.\n",
    "\n",
    "What variables might effect heating/cooling efficiency (heating_load/cooling_load)? "
   ]
  },
  {
   "cell_type": "code",
   "execution_count": 17,
   "metadata": {},
   "outputs": [
    {
     "data": {
      "text/plain": [
       "Index(['Relative_Compactness', 'Surface_Area', 'Wall_Area', 'Roof_Area',\n",
       "       'Overall_Height', 'Orientation', 'Glazing_Area',\n",
       "       'Glazing_Area_Distribution', 'Heating_Load', 'Cooling_Load'],\n",
       "      dtype='object')"
      ]
     },
     "execution_count": 17,
     "metadata": {},
     "output_type": "execute_result"
    }
   ],
   "source": [
    "data.columns"
   ]
  },
  {
   "cell_type": "markdown",
   "metadata": {},
   "source": [
    "First, let's convert Orientation and Glazing Area Distribution to factors so that we can examine their relationship to heating and cooling. "
   ]
  },
  {
   "cell_type": "code",
   "execution_count": 12,
   "metadata": {},
   "outputs": [
    {
     "data": {
      "text/plain": [
       "Relative_Compactness         float64\n",
       "Surface_Area                 float64\n",
       "Wall_Area                    float64\n",
       "Roof_Area                    float64\n",
       "Overall_Height               float64\n",
       "Orientation                    int64\n",
       "Glazing_Area                 float64\n",
       "Glazing_Area_Distribution      int64\n",
       "Heating_Load                 float64\n",
       "Cooling_Load                 float64\n",
       "dtype: object"
      ]
     },
     "execution_count": 12,
     "metadata": {},
     "output_type": "execute_result"
    }
   ],
   "source": [
    "data.dtypes"
   ]
  },
  {
   "cell_type": "code",
   "execution_count": 19,
   "metadata": {},
   "outputs": [],
   "source": [
    "data[\"Orientation\"] = data.Orientation.astype(\"category\")"
   ]
  },
  {
   "cell_type": "code",
   "execution_count": 20,
   "metadata": {},
   "outputs": [],
   "source": [
    "data[\"Glazing_Area_Distribution\"] = data.Glazing_Area_Distribution.astype(\"category\")"
   ]
  },
  {
   "cell_type": "code",
   "execution_count": 21,
   "metadata": {},
   "outputs": [
    {
     "data": {
      "text/html": [
       "<div>\n",
       "<style scoped>\n",
       "    .dataframe tbody tr th:only-of-type {\n",
       "        vertical-align: middle;\n",
       "    }\n",
       "\n",
       "    .dataframe tbody tr th {\n",
       "        vertical-align: top;\n",
       "    }\n",
       "\n",
       "    .dataframe thead th {\n",
       "        text-align: right;\n",
       "    }\n",
       "</style>\n",
       "<table border=\"1\" class=\"dataframe\">\n",
       "  <thead>\n",
       "    <tr style=\"text-align: right;\">\n",
       "      <th></th>\n",
       "      <th>Relative_Compactness</th>\n",
       "      <th>Surface_Area</th>\n",
       "      <th>Wall_Area</th>\n",
       "      <th>Roof_Area</th>\n",
       "      <th>Overall_Height</th>\n",
       "      <th>Orientation</th>\n",
       "      <th>Glazing_Area</th>\n",
       "      <th>Glazing_Area_Distribution</th>\n",
       "      <th>Heating_Load</th>\n",
       "      <th>Cooling_Load</th>\n",
       "    </tr>\n",
       "  </thead>\n",
       "  <tbody>\n",
       "    <tr>\n",
       "      <th>0</th>\n",
       "      <td>0.98</td>\n",
       "      <td>514.5</td>\n",
       "      <td>294.0</td>\n",
       "      <td>110.25</td>\n",
       "      <td>7.0</td>\n",
       "      <td>2</td>\n",
       "      <td>0.0</td>\n",
       "      <td>0</td>\n",
       "      <td>15.55</td>\n",
       "      <td>21.33</td>\n",
       "    </tr>\n",
       "    <tr>\n",
       "      <th>1</th>\n",
       "      <td>0.98</td>\n",
       "      <td>514.5</td>\n",
       "      <td>294.0</td>\n",
       "      <td>110.25</td>\n",
       "      <td>7.0</td>\n",
       "      <td>3</td>\n",
       "      <td>0.0</td>\n",
       "      <td>0</td>\n",
       "      <td>15.55</td>\n",
       "      <td>21.33</td>\n",
       "    </tr>\n",
       "    <tr>\n",
       "      <th>2</th>\n",
       "      <td>0.98</td>\n",
       "      <td>514.5</td>\n",
       "      <td>294.0</td>\n",
       "      <td>110.25</td>\n",
       "      <td>7.0</td>\n",
       "      <td>4</td>\n",
       "      <td>0.0</td>\n",
       "      <td>0</td>\n",
       "      <td>15.55</td>\n",
       "      <td>21.33</td>\n",
       "    </tr>\n",
       "    <tr>\n",
       "      <th>3</th>\n",
       "      <td>0.98</td>\n",
       "      <td>514.5</td>\n",
       "      <td>294.0</td>\n",
       "      <td>110.25</td>\n",
       "      <td>7.0</td>\n",
       "      <td>5</td>\n",
       "      <td>0.0</td>\n",
       "      <td>0</td>\n",
       "      <td>15.55</td>\n",
       "      <td>21.33</td>\n",
       "    </tr>\n",
       "    <tr>\n",
       "      <th>4</th>\n",
       "      <td>0.90</td>\n",
       "      <td>563.5</td>\n",
       "      <td>318.5</td>\n",
       "      <td>122.50</td>\n",
       "      <td>7.0</td>\n",
       "      <td>2</td>\n",
       "      <td>0.0</td>\n",
       "      <td>0</td>\n",
       "      <td>20.84</td>\n",
       "      <td>28.28</td>\n",
       "    </tr>\n",
       "  </tbody>\n",
       "</table>\n",
       "</div>"
      ],
      "text/plain": [
       "   Relative_Compactness  Surface_Area  Wall_Area  Roof_Area  Overall_Height  \\\n",
       "0                  0.98         514.5      294.0     110.25             7.0   \n",
       "1                  0.98         514.5      294.0     110.25             7.0   \n",
       "2                  0.98         514.5      294.0     110.25             7.0   \n",
       "3                  0.98         514.5      294.0     110.25             7.0   \n",
       "4                  0.90         563.5      318.5     122.50             7.0   \n",
       "\n",
       "  Orientation  Glazing_Area Glazing_Area_Distribution  Heating_Load  \\\n",
       "0           2           0.0                         0         15.55   \n",
       "1           3           0.0                         0         15.55   \n",
       "2           4           0.0                         0         15.55   \n",
       "3           5           0.0                         0         15.55   \n",
       "4           2           0.0                         0         20.84   \n",
       "\n",
       "   Cooling_Load  \n",
       "0         21.33  \n",
       "1         21.33  \n",
       "2         21.33  \n",
       "3         21.33  \n",
       "4         28.28  "
      ]
     },
     "execution_count": 21,
     "metadata": {},
     "output_type": "execute_result"
    }
   ],
   "source": [
    "data.head()"
   ]
  },
  {
   "cell_type": "markdown",
   "metadata": {},
   "source": [
    "Pandas categoricals are great for categorical data, allowing you to easily categories to a number, such as: \n",
    "\n",
    "Female: 0  \n",
    "Male: 1\n",
    "\n",
    "They are also faster as they are coded in bytes and are faster than object dtypes. "
   ]
  },
  {
   "cell_type": "markdown",
   "metadata": {},
   "source": [
    "## Correlation\n",
    "We can use pandas corr() function to create a correlation matrix for our dataset: "
   ]
  },
  {
   "cell_type": "code",
   "execution_count": 36,
   "metadata": {},
   "outputs": [
    {
     "name": "stdout",
     "output_type": "stream",
     "text": [
      "                      Relative_Compactness  Surface_Area     Wall_Area  \\\n",
      "Relative_Compactness          1.000000e+00 -9.919015e-01 -2.037817e-01   \n",
      "Surface_Area                 -9.919015e-01  1.000000e+00  1.955016e-01   \n",
      "Wall_Area                    -2.037817e-01  1.955016e-01  1.000000e+00   \n",
      "Roof_Area                    -8.688234e-01  8.807195e-01 -2.923165e-01   \n",
      "Overall_Height                8.277473e-01 -8.581477e-01  2.809757e-01   \n",
      "Glazing_Area                  1.283986e-17  1.318356e-16 -7.969726e-19   \n",
      "Heating_Load                  6.222722e-01 -6.581202e-01  4.556712e-01   \n",
      "Cooling_Load                  6.343391e-01 -6.729989e-01  4.271170e-01   \n",
      "\n",
      "                         Roof_Area  Overall_Height  Glazing_Area  \\\n",
      "Relative_Compactness -8.688234e-01    8.277473e-01  1.283986e-17   \n",
      "Surface_Area          8.807195e-01   -8.581477e-01  1.318356e-16   \n",
      "Wall_Area            -2.923165e-01    2.809757e-01 -7.969726e-19   \n",
      "Roof_Area             1.000000e+00   -9.725122e-01 -1.381805e-16   \n",
      "Overall_Height       -9.725122e-01    1.000000e+00  1.861418e-18   \n",
      "Glazing_Area         -1.381805e-16    1.861418e-18  1.000000e+00   \n",
      "Heating_Load         -8.618283e-01    8.894307e-01  2.698410e-01   \n",
      "Cooling_Load         -8.625466e-01    8.957852e-01  2.075050e-01   \n",
      "\n",
      "                      Heating_Load  Cooling_Load  \n",
      "Relative_Compactness      0.622272      0.634339  \n",
      "Surface_Area             -0.658120     -0.672999  \n",
      "Wall_Area                 0.455671      0.427117  \n",
      "Roof_Area                -0.861828     -0.862547  \n",
      "Overall_Height            0.889431      0.895785  \n",
      "Glazing_Area              0.269841      0.207505  \n",
      "Heating_Load              1.000000      0.975862  \n",
      "Cooling_Load              0.975862      1.000000  \n"
     ]
    }
   ],
   "source": [
    "corr = data.corr()\n",
    "print(corr)"
   ]
  },
  {
   "cell_type": "markdown",
   "metadata": {},
   "source": [
    "This is a lot easier to visulize as a graph. First we'll try it in matplotlib."
   ]
  },
  {
   "cell_type": "code",
   "execution_count": 37,
   "metadata": {},
   "outputs": [
    {
     "data": {
      "image/png": "[encoded data removed]",
      "text/plain": [
       "<Figure size 720x720 with 1 Axes>"
      ]
     },
     "metadata": {},
     "output_type": "display_data"
    }
   ],
   "source": [
    "fig, ax = plt.subplots(figsize=(10,10))\n",
    "ax.matshow(corr)\n",
    "plt.xticks(range(len(corr.columns)), corr.columns)\n",
    "plt.yticks(range(len(corr.columns)), corr.columns)\n",
    "plt.xticks(rotation=90)\n",
    "plt.show()"
   ]
  },
  {
   "cell_type": "markdown",
   "metadata": {},
   "source": [
    "The seaborn function adds a legend, which makes it easier to determine which relationship are positive and which are negative. "
   ]
  },
  {
   "cell_type": "code",
   "execution_count": 32,
   "metadata": {},
   "outputs": [
    {
     "data": {
      "text/plain": [
       "<matplotlib.axes._subplots.AxesSubplot at 0x11248b860>"
      ]
     },
     "execution_count": 32,
     "metadata": {},
     "output_type": "execute_result"
    },
    {
     "data": {
      "image/png": "[encoded data removed]",
      "text/plain": [
       "<Figure size 432x288 with 2 Axes>"
      ]
     },
     "metadata": {},
     "output_type": "display_data"
    }
   ],
   "source": [
    "import seaborn as sns\n",
    "corr = data.corr()\n",
    "sns.heatmap(corr, \n",
    "            xticklabels=corr.columns.values,\n",
    "            yticklabels=corr.columns.values)"
   ]
  },
  {
   "cell_type": "markdown",
   "metadata": {},
   "source": [
    "## Covariance\n",
    "Similarily, we can use the cov() function to view covariance within the data."
   ]
  },
  {
   "cell_type": "code",
   "execution_count": 40,
   "metadata": {},
   "outputs": [
    {
     "data": {
      "text/html": [
       "<div>\n",
       "<style scoped>\n",
       "    .dataframe tbody tr th:only-of-type {\n",
       "        vertical-align: middle;\n",
       "    }\n",
       "\n",
       "    .dataframe tbody tr th {\n",
       "        vertical-align: top;\n",
       "    }\n",
       "\n",
       "    .dataframe thead th {\n",
       "        text-align: right;\n",
       "    }\n",
       "</style>\n",
       "<table border=\"1\" class=\"dataframe\">\n",
       "  <thead>\n",
       "    <tr style=\"text-align: right;\">\n",
       "      <th></th>\n",
       "      <th>Relative_Compactness</th>\n",
       "      <th>Surface_Area</th>\n",
       "      <th>Wall_Area</th>\n",
       "      <th>Roof_Area</th>\n",
       "      <th>Overall_Height</th>\n",
       "      <th>Glazing_Area</th>\n",
       "      <th>Heating_Load</th>\n",
       "      <th>Cooling_Load</th>\n",
       "    </tr>\n",
       "  </thead>\n",
       "  <tbody>\n",
       "    <tr>\n",
       "      <th>Relative_Compactness</th>\n",
       "      <td>1.118887e-02</td>\n",
       "      <td>-9.242069e+00</td>\n",
       "      <td>-0.940391</td>\n",
       "      <td>-4.150839e+00</td>\n",
       "      <td>1.533246e-01</td>\n",
       "      <td>2.894975e-19</td>\n",
       "      <td>0.664161</td>\n",
       "      <td>0.638331</td>\n",
       "    </tr>\n",
       "    <tr>\n",
       "      <th>Surface_Area</th>\n",
       "      <td>-9.242069e+00</td>\n",
       "      <td>7.759164e+03</td>\n",
       "      <td>751.290743</td>\n",
       "      <td>3.503937e+03</td>\n",
       "      <td>-1.323703e+02</td>\n",
       "      <td>-2.223341e-16</td>\n",
       "      <td>-584.941306</td>\n",
       "      <td>-563.966469</td>\n",
       "    </tr>\n",
       "    <tr>\n",
       "      <th>Wall_Area</th>\n",
       "      <td>-9.403911e-01</td>\n",
       "      <td>7.512907e+02</td>\n",
       "      <td>1903.269883</td>\n",
       "      <td>-5.759896e+02</td>\n",
       "      <td>2.146545e+01</td>\n",
       "      <td>0.000000e+00</td>\n",
       "      <td>200.586323</td>\n",
       "      <td>177.267243</td>\n",
       "    </tr>\n",
       "    <tr>\n",
       "      <th>Roof_Area</th>\n",
       "      <td>-4.150839e+00</td>\n",
       "      <td>3.503937e+03</td>\n",
       "      <td>-575.989570</td>\n",
       "      <td>2.039963e+03</td>\n",
       "      <td>-7.691786e+01</td>\n",
       "      <td>5.558353e-17</td>\n",
       "      <td>-392.763815</td>\n",
       "      <td>-370.616856</td>\n",
       "    </tr>\n",
       "    <tr>\n",
       "      <th>Overall_Height</th>\n",
       "      <td>1.533246e-01</td>\n",
       "      <td>-1.323703e+02</td>\n",
       "      <td>21.465450</td>\n",
       "      <td>-7.691786e+01</td>\n",
       "      <td>3.066493e+00</td>\n",
       "      <td>-5.789951e-19</td>\n",
       "      <td>15.715662</td>\n",
       "      <td>14.923005</td>\n",
       "    </tr>\n",
       "    <tr>\n",
       "      <th>Glazing_Area</th>\n",
       "      <td>2.894975e-19</td>\n",
       "      <td>-2.223341e-16</td>\n",
       "      <td>0.000000</td>\n",
       "      <td>5.558353e-17</td>\n",
       "      <td>-5.789951e-19</td>\n",
       "      <td>1.774772e-02</td>\n",
       "      <td>0.362726</td>\n",
       "      <td>0.262985</td>\n",
       "    </tr>\n",
       "    <tr>\n",
       "      <th>Heating_Load</th>\n",
       "      <td>6.641607e-01</td>\n",
       "      <td>-5.849413e+02</td>\n",
       "      <td>200.586323</td>\n",
       "      <td>-3.927638e+02</td>\n",
       "      <td>1.571566e+01</td>\n",
       "      <td>3.627261e-01</td>\n",
       "      <td>101.812050</td>\n",
       "      <td>93.674064</td>\n",
       "    </tr>\n",
       "    <tr>\n",
       "      <th>Cooling_Load</th>\n",
       "      <td>6.383312e-01</td>\n",
       "      <td>-5.639665e+02</td>\n",
       "      <td>177.267243</td>\n",
       "      <td>-3.706169e+02</td>\n",
       "      <td>1.492301e+01</td>\n",
       "      <td>2.629852e-01</td>\n",
       "      <td>93.674064</td>\n",
       "      <td>90.502983</td>\n",
       "    </tr>\n",
       "  </tbody>\n",
       "</table>\n",
       "</div>"
      ],
      "text/plain": [
       "                      Relative_Compactness  Surface_Area    Wall_Area  \\\n",
       "Relative_Compactness          1.118887e-02 -9.242069e+00    -0.940391   \n",
       "Surface_Area                 -9.242069e+00  7.759164e+03   751.290743   \n",
       "Wall_Area                    -9.403911e-01  7.512907e+02  1903.269883   \n",
       "Roof_Area                    -4.150839e+00  3.503937e+03  -575.989570   \n",
       "Overall_Height                1.533246e-01 -1.323703e+02    21.465450   \n",
       "Glazing_Area                  2.894975e-19 -2.223341e-16     0.000000   \n",
       "Heating_Load                  6.641607e-01 -5.849413e+02   200.586323   \n",
       "Cooling_Load                  6.383312e-01 -5.639665e+02   177.267243   \n",
       "\n",
       "                         Roof_Area  Overall_Height  Glazing_Area  \\\n",
       "Relative_Compactness -4.150839e+00    1.533246e-01  2.894975e-19   \n",
       "Surface_Area          3.503937e+03   -1.323703e+02 -2.223341e-16   \n",
       "Wall_Area            -5.759896e+02    2.146545e+01  0.000000e+00   \n",
       "Roof_Area             2.039963e+03   -7.691786e+01  5.558353e-17   \n",
       "Overall_Height       -7.691786e+01    3.066493e+00 -5.789951e-19   \n",
       "Glazing_Area          5.558353e-17   -5.789951e-19  1.774772e-02   \n",
       "Heating_Load         -3.927638e+02    1.571566e+01  3.627261e-01   \n",
       "Cooling_Load         -3.706169e+02    1.492301e+01  2.629852e-01   \n",
       "\n",
       "                      Heating_Load  Cooling_Load  \n",
       "Relative_Compactness      0.664161      0.638331  \n",
       "Surface_Area           -584.941306   -563.966469  \n",
       "Wall_Area               200.586323    177.267243  \n",
       "Roof_Area              -392.763815   -370.616856  \n",
       "Overall_Height           15.715662     14.923005  \n",
       "Glazing_Area              0.362726      0.262985  \n",
       "Heating_Load            101.812050     93.674064  \n",
       "Cooling_Load             93.674064     90.502983  "
      ]
     },
     "execution_count": 40,
     "metadata": {},
     "output_type": "execute_result"
    }
   ],
   "source": [
    "data.cov()"
   ]
  },
  {
   "cell_type": "markdown",
   "metadata": {},
   "source": [
    "We can use this same syntax to look at the relationship between just a few variables at a time: "
   ]
  },
  {
   "cell_type": "code",
   "execution_count": 44,
   "metadata": {},
   "outputs": [
    {
     "data": {
      "text/html": [
       "<div>\n",
       "<style scoped>\n",
       "    .dataframe tbody tr th:only-of-type {\n",
       "        vertical-align: middle;\n",
       "    }\n",
       "\n",
       "    .dataframe tbody tr th {\n",
       "        vertical-align: top;\n",
       "    }\n",
       "\n",
       "    .dataframe thead th {\n",
       "        text-align: right;\n",
       "    }\n",
       "</style>\n",
       "<table border=\"1\" class=\"dataframe\">\n",
       "  <thead>\n",
       "    <tr style=\"text-align: right;\">\n",
       "      <th></th>\n",
       "      <th>Surface_Area</th>\n",
       "      <th>Heating_Load</th>\n",
       "    </tr>\n",
       "  </thead>\n",
       "  <tbody>\n",
       "    <tr>\n",
       "      <th>Surface_Area</th>\n",
       "      <td>1.00000</td>\n",
       "      <td>-0.65812</td>\n",
       "    </tr>\n",
       "    <tr>\n",
       "      <th>Heating_Load</th>\n",
       "      <td>-0.65812</td>\n",
       "      <td>1.00000</td>\n",
       "    </tr>\n",
       "  </tbody>\n",
       "</table>\n",
       "</div>"
      ],
      "text/plain": [
       "              Surface_Area  Heating_Load\n",
       "Surface_Area       1.00000      -0.65812\n",
       "Heating_Load      -0.65812       1.00000"
      ]
     },
     "execution_count": 44,
     "metadata": {},
     "output_type": "execute_result"
    }
   ],
   "source": [
    "data[['Surface_Area','Heating_Load']].corr()"
   ]
  },
  {
   "cell_type": "code",
   "execution_count": 46,
   "metadata": {},
   "outputs": [
    {
     "data": {
      "text/html": [
       "<div>\n",
       "<style scoped>\n",
       "    .dataframe tbody tr th:only-of-type {\n",
       "        vertical-align: middle;\n",
       "    }\n",
       "\n",
       "    .dataframe tbody tr th {\n",
       "        vertical-align: top;\n",
       "    }\n",
       "\n",
       "    .dataframe thead th {\n",
       "        text-align: right;\n",
       "    }\n",
       "</style>\n",
       "<table border=\"1\" class=\"dataframe\">\n",
       "  <thead>\n",
       "    <tr style=\"text-align: right;\">\n",
       "      <th></th>\n",
       "      <th>Surface_Area</th>\n",
       "      <th>Heating_Load</th>\n",
       "    </tr>\n",
       "  </thead>\n",
       "  <tbody>\n",
       "    <tr>\n",
       "      <th>Surface_Area</th>\n",
       "      <td>7759.163842</td>\n",
       "      <td>-584.941306</td>\n",
       "    </tr>\n",
       "    <tr>\n",
       "      <th>Heating_Load</th>\n",
       "      <td>-584.941306</td>\n",
       "      <td>101.812050</td>\n",
       "    </tr>\n",
       "  </tbody>\n",
       "</table>\n",
       "</div>"
      ],
      "text/plain": [
       "              Surface_Area  Heating_Load\n",
       "Surface_Area   7759.163842   -584.941306\n",
       "Heating_Load   -584.941306    101.812050"
      ]
     },
     "execution_count": 46,
     "metadata": {},
     "output_type": "execute_result"
    }
   ],
   "source": [
    "data[['Surface_Area','Heating_Load']].cov()"
   ]
  }
 ],
 "metadata": {
  "kernelspec": {
   "display_name": "Python 3",
   "language": "python",
   "name": "python3"
  },
  "language_info": {
   "codemirror_mode": {
    "name": "ipython",
    "version": 3
   },
   "file_extension": ".py",
   "mimetype": "text/x-python",
   "name": "python",
   "nbconvert_exporter": "python",
   "pygments_lexer": "ipython3",
   "version": "3.6.7"
  }
 },
 "nbformat": 4,
 "nbformat_minor": 2
}
