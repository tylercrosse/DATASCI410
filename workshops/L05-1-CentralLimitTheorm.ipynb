{
 "cells": [
  {
   "cell_type": "markdown",
   "metadata": {},
   "source": [
    "<div id=\"instructions\" style=\"border-radius: 5px; background-color:#f5f5f5;\" >\n",
    "<h1>Instructions</h1>\n",
    "<p>Look for the <b>1 Your Turn</b> section to complete the code and/or answer questions.<p>\n",
    "</div>"
   ]
  },
  {
   "cell_type": "markdown",
   "metadata": {},
   "source": [
    "# Lesson 5 - The Central Limit Theorm\n",
    "\n",
    "## Introduction\n",
    "\n",
    "The Central Limit Theorm is a fundamental relationship which underpins many of principles which make statistical methods work. Put another way, without the Central Limit Theorm much of what we do rountinely would simply not work. Specifically:\n",
    "\n",
    "- CLT enables sampling methods\n",
    "- Without a CLT we could not reliably compute confidence intervals\n",
    "- Most statistical methods and machine learning algorithms rely on CLT. For example, Hypothesis tests rest on the CLT\n",
    "\n",
    "\n",
    "## History\n",
    "\n",
    "<img style=\"float: left; padding-right: 10px; height: 200px;\" src=\"https://library.startlearninglabs.uw.edu/DATASCI410/img/deMoiver.jpg\" title=\"deMovier published Central Limit Theorem\">The CLT has been around in many forms and was refined for two centuries. The first published version was by de Moiver in 1738. He proved a special case for Bernoulli trials.\n",
    "\n",
    "Laplace published generalization of the CLT in 1776, 1785 and 1820. A rigorous proof of a version close to the modern form was published by Chebyshev in 1887. Feller and Lévy worked on genralizations and some special cases into the mid 1930s. \n"
   ]
  },
  {
   "cell_type": "markdown",
   "metadata": {},
   "source": [
    "\n",
    "## The CLT\n",
    "\n",
    "Sample a population many times, and the distribution of means of all samples are normally distributed, regardless of the population distribution.\n",
    "\n",
    "More formally, in a simple yet general form we can write the CLT as:\n",
    "\n",
    "$$\\bar{X} = population\\ mean = \\mu$$\n",
    "\n",
    "$$distribution(\\bar{X})  \\rightarrow  N(\\mu, \\frac{\\sigma}{\\sqrt{n}})$$"
   ]
  },
  {
   "cell_type": "markdown",
   "metadata": {},
   "source": [
    "## A First Example\n",
    "\n",
    "Let's try an example. In this example you will create and sample a distribution created as a mixure of normals. By the CLT the distribution of the mean of the sample should be Normal, dispite the original distribution.\n",
    "\n",
    "### Generate mixture of Normals\n",
    "\n",
    "The code in the cell below computes 2000 realizations of a distribution from a mixture of Normal. Run the code and examine the histogram."
   ]
  },
  {
   "cell_type": "code",
   "execution_count": null,
   "metadata": {},
   "outputs": [],
   "source": [
    "import pandas\n",
    "import numpy\n",
    "from matplotlib import pyplot\n",
    "import seaborn\n",
    "import statsmodels.api as sm\n",
    "import scipy\n",
    "\n",
    "%matplotlib inline"
   ]
  },
  {
   "cell_type": "code",
   "execution_count": null,
   "metadata": {},
   "outputs": [],
   "source": [
    "x = numpy.concatenate([\n",
    "        numpy.random.normal(loc=0, scale=1, size=1000),\n",
    "        numpy.random.normal(loc=3, scale=.5, size=1000)])\n",
    "seaborn.kdeplot(x)"
   ]
  },
  {
   "cell_type": "markdown",
   "metadata": {},
   "source": [
    "## Sample the distribution and examine means\n",
    "\n",
    "The code in the cell below computes a list of 500 sample means from samples of size 50 from the population distribution. A histogram and Q-Q plot are created from the results are plotted. Run this code and note the results."
   ]
  },
  {
   "cell_type": "code",
   "execution_count": null,
   "metadata": {},
   "outputs": [],
   "source": [
    "x_means = numpy.array([\n",
    "        numpy.random.choice(x, size=50, replace=True).mean()\n",
    "        for i in range(500)])\n",
    "\n",
    "breaks = numpy.linspace(x_means.min(), x_means.max(), num=40)\n",
    "_ = pyplot.hist(x_means, bins=breaks)\n",
    "_ = sm.qqplot(x_means, line='s')"
   ]
  },
  {
   "cell_type": "markdown",
   "metadata": {},
   "source": [
    "The distribution of the sample means is close to Normal, even though the population is not. \n",
    "\n",
    "### Compute summary statistics\n",
    "\n",
    "Next, run the code in the cell below to compute some summary statistics and examine the result. "
   ]
  },
  {
   "cell_type": "code",
   "execution_count": null,
   "metadata": {},
   "outputs": [],
   "source": [
    "pop_mean = x_means.mean()\n",
    "pop_std = x_means.std()\n",
    "print('Estimated mean (%.3f) vs actual mean (%.3f)' % (pop_mean, x.mean()))\n",
    "print('Estimated s.d. (%.3f) vs actual s.d. (%.3f)' % (pop_std, x.std()))"
   ]
  },
  {
   "cell_type": "markdown",
   "metadata": {},
   "source": [
    "## Confidence Intervals\n",
    "\n",
    "To create confidence intervals for population means, we use the central limit theorem and create confidence intervals based on the normal distribution.\n",
    "- Repeatedly sample from the population.\n",
    "- Calculate the mean for each sample.\n",
    "- Use the average of the sample means as the population estimate and create a C.I. based on the s.d. of the sample means.\n",
    "\n",
    "<img src=\"https://library.startlearninglabs.uw.edu/DATASCI410/img/CIs.png\" style=\"height: 200px;\" title=\"Recall normal distribution\">\n",
    "\n",
    "Confidence intervals are a way to express uncertainty in population parameters, as estimated by the sample. However, it is **not correct to say:**\n",
    "- “95% of the sample values are in this range.”\n",
    "- “There is a 95% chance that the mean of another \n",
    "     sample will be in this range.”\n",
    "\n",
    "Run the code in the cell below to compute the confidence interval for a normal distribution."
   ]
  },
  {
   "cell_type": "code",
   "execution_count": null,
   "metadata": {},
   "outputs": [],
   "source": [
    "alpha = 0.95\n",
    "half_width = scipy.stats.norm.ppf((1 + alpha)/2, loc=pop_mean, scale=pop_std) - pop_mean\n",
    "print('The half width is %.2f' % half_width)\n",
    "\n",
    "ci_low = pop_mean - half_width\n",
    "ci_high = pop_mean + half_width\n",
    "\n",
    "print('The actual mean is %.2f' % x.mean())\n",
    "print('The %.2f level CI is (%.2f , %.2f)' % (alpha, ci_low, ci_high))"
   ]
  },
  {
   "cell_type": "markdown",
   "metadata": {},
   "source": [
    "## Uniform Distribution\n",
    "\n",
    "The code in the cell below computes a population from a uniform distribution. Execute this code and examine the density plot."
   ]
  },
  {
   "cell_type": "code",
   "execution_count": null,
   "metadata": {},
   "outputs": [],
   "source": [
    "x = numpy.random.uniform(size=1000000)\n",
    "seaborn.kdeplot(x)"
   ]
  },
  {
   "cell_type": "markdown",
   "metadata": {},
   "source": [
    "## Your Turn 1\n",
    "In the cell below create code to compute means of the uniform distribution, using 500 samples of size 50. Plot the histogram and Q-Q Normal plots of these means. Run your code several times and notice any changes in the distribution of the means."
   ]
  },
  {
   "cell_type": "code",
   "execution_count": null,
   "metadata": {},
   "outputs": [],
   "source": []
  },
  {
   "cell_type": "markdown",
   "metadata": {
    "collapsed": true
   },
   "source": [
    "<div id=\"reminder\" style=\"border-radius: 5px; background-color:#f5f5f5;\" >\n",
    "<h3>Reminder</h3>\n",
    "<p>Use this notebook to answer the quiz questions related to the <b>Your Turn</b> sections.<p>\n",
    "</div>"
   ]
  }
 ],
 "metadata": {
  "anaconda-cloud": {},
  "kernelspec": {
   "display_name": "Python 3",
   "language": "python",
   "name": "python3"
  },
  "language_info": {
   "codemirror_mode": {
    "name": "ipython",
    "version": 3
   },
   "file_extension": ".py",
   "mimetype": "text/x-python",
   "name": "python",
   "nbconvert_exporter": "python",
   "pygments_lexer": "ipython3",
   "version": "3.6.5"
  }
 },
 "nbformat": 4,
 "nbformat_minor": 1
}
